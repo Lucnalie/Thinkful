{
  "nbformat": 4,
  "nbformat_minor": 0,
  "metadata": {
    "colab": {
      "name": "Day 11 Lecture 2 Assignment.ipynb",
      "provenance": [],
      "collapsed_sections": [],
      "include_colab_link": true
    },
    "kernelspec": {
      "display_name": "Python 3",
      "language": "python",
      "name": "python3"
    },
    "language_info": {
      "codemirror_mode": {
        "name": "ipython",
        "version": 3
      },
      "file_extension": ".py",
      "mimetype": "text/x-python",
      "name": "python",
      "nbconvert_exporter": "python",
      "pygments_lexer": "ipython3",
      "version": "3.7.6"
    }
  },
  "cells": [
    {
      "cell_type": "markdown",
      "metadata": {
        "id": "view-in-github",
        "colab_type": "text"
      },
      "source": [
        "<a href=\"https://colab.research.google.com/github/Lucnalie/Thinkful/blob/master/Day_11_Lecture_2_Assignment.ipynb\" target=\"_parent\"><img src=\"https://colab.research.google.com/assets/colab-badge.svg\" alt=\"Open In Colab\"/></a>"
      ]
    },
    {
      "cell_type": "markdown",
      "metadata": {
        "colab_type": "text",
        "id": "-LlIJmPujjKW"
      },
      "source": [
        "# Assignment\n",
        "\n",
        "For this assignment, you are going to apply statistical inference on [Titanic dataset](https://tf-assets-prod.s3.amazonaws.com/tf-curric/data-science/titanic.csv).\n",
        "\n",
        "\n",
        "Try to answer the following questions. Include a hypothesis and the test assumptions. **If the assumptions are valid**, try to conduct the t-test and addditionally calculate manually the 95% confidence interval which is derived from the hypothesis that you try to evaluate. Also try to come up with some valid findings from the data.\n",
        "\n",
        "\n",
        "\n",
        "1. Is it true that the younger a passenger was, they had more chance of survival? Is this difference statistically important? \n",
        "2. Is there a correlation between fare price and survival? Again, is this difference statistically important?\n",
        "\n",
        "As you are conducting the analysis, consider what other variables may be accounting for any significant differences you find. "
      ]
    },
    {
      "cell_type": "markdown",
      "metadata": {
        "colab_type": "text",
        "id": "2eeeyNXpn0ct"
      },
      "source": [
        "##### More specifically, the tasks that you need to enounter in your deliverables are:\n",
        "\n",
        "1. Familiarize yourself with the dataset. Review the structure of it and focus on the fields necessary to answer the above mentioned questions.\n",
        "\n",
        "2. State the null and the alternative hypotheses that address the questions.\n",
        "\n",
        "3. Manipulate the dataset accordingly in order to prepare it for the statistical tests.\n",
        "\n",
        "4. Perform an exploratory analysis with summary statistics and corresponding visualizations, in order to gain a clearer view about the distributions of the samples. Focus on their differences.\n",
        "\n",
        "5. Perform the necessary normality checks in order to make sure that you can conduct the statistical tests.\n",
        "\n",
        "6. Apply t-test statistic if you pass successfully the normality checks\n",
        "\n",
        "7. For this exercise, you will also need to write a function to calculate the confidence interval using the standard error for comparing two means (used in t-statistic):\n",
        "\n",
        "$$\n",
        "    \\bar{X_1} - \\bar{X_2} \\pm z*\\sqrt{\\dfrac{s_1^2}{n_1} + \\dfrac{s_2^2}{n_2}}\n",
        "$$\n",
        "\n",
        "- $z$ is the critical value\n",
        "- $s_1$ sample 1 standard deviation\n",
        "- $s_2$ sample 2 standard deviation\n",
        "\n",
        "- Let $z=1.96$ for a 95% confidence level\n",
        "\n",
        "- Use the following method signature:\n",
        "\n",
        "    `def get_95_ci(data1, data2)`\n",
        "    \n",
        "\n",
        "8. Elaborate on the results of your analyses."
      ]
    },
    {
      "cell_type": "code",
      "metadata": {
        "colab_type": "code",
        "id": "PnEovpH4nZlv",
        "colab": {}
      },
      "source": [
        ""
      ],
      "execution_count": null,
      "outputs": []
    }
  ]
}