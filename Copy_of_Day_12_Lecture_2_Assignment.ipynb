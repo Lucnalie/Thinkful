{
  "nbformat": 4,
  "nbformat_minor": 0,
  "metadata": {
    "kernelspec": {
      "display_name": "Python 3",
      "language": "python",
      "name": "python3"
    },
    "language_info": {
      "codemirror_mode": {
        "name": "ipython",
        "version": 3
      },
      "file_extension": ".py",
      "mimetype": "text/x-python",
      "name": "python",
      "nbconvert_exporter": "python",
      "pygments_lexer": "ipython3",
      "version": "3.7.6"
    },
    "colab": {
      "name": "Copy of Day 12 Lecture 2 Assignment.ipynb",
      "provenance": [],
      "collapsed_sections": [],
      "include_colab_link": true
    }
  },
  "cells": [
    {
      "cell_type": "markdown",
      "metadata": {
        "id": "view-in-github",
        "colab_type": "text"
      },
      "source": [
        "<a href=\"https://colab.research.google.com/github/Lucnalie/Thinkful/blob/master/Copy_of_Day_12_Lecture_2_Assignment.ipynb\" target=\"_parent\"><img src=\"https://colab.research.google.com/assets/colab-badge.svg\" alt=\"Open In Colab\"/></a>"
      ]
    },
    {
      "cell_type": "markdown",
      "metadata": {
        "id": "HFf2astgG4Ja",
        "colab_type": "text"
      },
      "source": [
        "# Statistical Power Assignment"
      ]
    },
    {
      "cell_type": "code",
      "metadata": {
        "id": "CJSstY75G4Jc",
        "colab_type": "code",
        "colab": {
          "base_uri": "https://localhost:8080/",
          "height": 71
        },
        "outputId": "ac2fb6f2-fd17-4221-8901-9f446cc109eb"
      },
      "source": [
        "import numpy as np\n",
        "import pandas as pd\n",
        "\n",
        "from scipy import stats\n",
        "from statsmodels.stats.power import TTestIndPower\n",
        "\n",
        "import matplotlib.pyplot as plt\n",
        "\n",
        "%matplotlib inline"
      ],
      "execution_count": null,
      "outputs": [
        {
          "output_type": "stream",
          "text": [
            "/usr/local/lib/python3.6/dist-packages/statsmodels/tools/_testing.py:19: FutureWarning: pandas.util.testing is deprecated. Use the functions in the public API at pandas.testing instead.\n",
            "  import pandas.util.testing as tm\n"
          ],
          "name": "stderr"
        }
      ]
    },
    {
      "cell_type": "markdown",
      "metadata": {
        "id": "I7wJYEC-G4Jw",
        "colab_type": "text"
      },
      "source": [
        "### Computing Sample Size Required\n",
        "\n",
        "Suppose we are conducting a test where we have:\n",
        "\n",
        "- Effect size of 0.5\n",
        "- Significance level of 0.05\n",
        "- Looking to achieve 80% statistical power\n",
        "\n",
        "How large of a sample size would we need for this experiment?"
      ]
    },
    {
      "cell_type": "code",
      "metadata": {
        "id": "4mFLkvFnG4J2",
        "colab_type": "code",
        "colab": {
          "base_uri": "https://localhost:8080/",
          "height": 34
        },
        "outputId": "c25b1426-e658-43c8-cb0d-63819b693fcf"
      },
      "source": [
        "import math\n",
        "analysis = TTestIndPower()\n",
        "\n",
        "result = analysis.solve_power(effect_size=0.5, nobs1=None, alpha=0.05, power=0.8, ratio=1.0)\n",
        "2 * math.ceil(result)"
      ],
      "execution_count": null,
      "outputs": [
        {
          "output_type": "execute_result",
          "data": {
            "text/plain": [
              "128"
            ]
          },
          "metadata": {
            "tags": []
          },
          "execution_count": 7
        }
      ]
    },
    {
      "cell_type": "markdown",
      "metadata": {
        "id": "LcNVmyGsG4KB",
        "colab_type": "text"
      },
      "source": [
        "### Computing Effect Size Required\n",
        "\n",
        "Suppose we are conducting a test where we have:\n",
        "\n",
        "- Sample size of 100\n",
        "- Significance level of 0.05\n",
        "- Looking to achieve 80% statistical power\n",
        "\n",
        "How large of an effect size would we need to see for this experiment?"
      ]
    },
    {
      "cell_type": "code",
      "metadata": {
        "id": "kxOoM94zG4KC",
        "colab_type": "code",
        "colab": {}
      },
      "source": [
        ""
      ],
      "execution_count": null,
      "outputs": []
    },
    {
      "cell_type": "markdown",
      "metadata": {
        "id": "nhp7zvBmG4KH",
        "colab_type": "text"
      },
      "source": [
        "Generate a power plot that shows how the statistical power of this test would change based on the number of observations and varying effect sizes."
      ]
    },
    {
      "cell_type": "code",
      "metadata": {
        "id": "l2UvpmXCG4KI",
        "colab_type": "code",
        "colab": {}
      },
      "source": [
        ""
      ],
      "execution_count": null,
      "outputs": []
    },
    {
      "cell_type": "markdown",
      "metadata": {
        "id": "k1mp4tBXG4KP",
        "colab_type": "text"
      },
      "source": [
        "### Computing Statistical Power\n",
        "\n",
        "Suppose we are conducting a test where we have:\n",
        "\n",
        "- Effect size of 0.4\n",
        "- Sample size of 100\n",
        "- Significance level of 0.05\n",
        "\n",
        "What would be the statistical power for this experiment?"
      ]
    },
    {
      "cell_type": "code",
      "metadata": {
        "id": "iohYAowNG4KR",
        "colab_type": "code",
        "colab": {}
      },
      "source": [
        ""
      ],
      "execution_count": null,
      "outputs": []
    },
    {
      "cell_type": "markdown",
      "metadata": {
        "id": "ZoXJHNZiG4KV",
        "colab_type": "text"
      },
      "source": [
        "Generate a plot that examines how the statistical power of this experiment would change based on different significance levels."
      ]
    },
    {
      "cell_type": "code",
      "metadata": {
        "id": "XvUtHG29G4KX",
        "colab_type": "code",
        "colab": {}
      },
      "source": [
        ""
      ],
      "execution_count": null,
      "outputs": []
    },
    {
      "cell_type": "markdown",
      "metadata": {
        "id": "tkf74qmRG4Ke",
        "colab_type": "text"
      },
      "source": [
        "## Computing Statistical Power for a Real Data Set\n",
        "\n",
        "Yesterday afternoon, you conducted a t-test on the titanic data set to determine whether there was a significant difference between the average age of passengers who survived and those who did not survive. In this section, compute the statistical power of that test."
      ]
    },
    {
      "cell_type": "markdown",
      "metadata": {
        "id": "KzYOXFNuG4Kf",
        "colab_type": "text"
      },
      "source": [
        "### Import the data, and drop rows where `'Age'` is NA."
      ]
    },
    {
      "cell_type": "code",
      "metadata": {
        "id": "W3C_d3s_FDR8",
        "colab_type": "code",
        "colab": {}
      },
      "source": [
        "data_url = 'https://tf-assets-prod.s3.amazonaws.com/tf-curric/data-science/titanic.csv'"
      ],
      "execution_count": null,
      "outputs": []
    },
    {
      "cell_type": "code",
      "metadata": {
        "id": "s0aP3nZAG4Kg",
        "colab_type": "code",
        "colab": {}
      },
      "source": [
        ""
      ],
      "execution_count": null,
      "outputs": []
    },
    {
      "cell_type": "markdown",
      "metadata": {
        "id": "QbnH4zT6G4Km",
        "colab_type": "text"
      },
      "source": [
        "### Summarize the number of observations and average age per group."
      ]
    },
    {
      "cell_type": "code",
      "metadata": {
        "id": "IoEmT1hoG4Ko",
        "colab_type": "code",
        "colab": {}
      },
      "source": [
        ""
      ],
      "execution_count": null,
      "outputs": []
    },
    {
      "cell_type": "markdown",
      "metadata": {
        "id": "DigcDVUWG4Ks",
        "colab_type": "text"
      },
      "source": [
        "### Perform t-test."
      ]
    },
    {
      "cell_type": "code",
      "metadata": {
        "id": "oaMDD4mUG4Ku",
        "colab_type": "code",
        "colab": {}
      },
      "source": [
        ""
      ],
      "execution_count": null,
      "outputs": []
    },
    {
      "cell_type": "markdown",
      "metadata": {
        "id": "-JdTMpd6G4K1",
        "colab_type": "text"
      },
      "source": [
        "### Calculate the Effect Size\n",
        "\n",
        "Effect size can be calculated by using a formula known as Cohen's d, which divides the difference in means between the two groups by their pooled standard deviation.\n",
        "\n",
        "`effect_size = (mean_of_sample1 - mean_of_sample2) / pooled_stdev`\n",
        "\n",
        "The pooled standard deviation in the denominator can be derived as follows.\n",
        "\n",
        "`pooled_stdev = sqrt(((n_obs1 - 1) * var1 + (n_obs2 - 1) * var2) / (n_obs1 + n_obs2 - 2))`\n",
        "\n",
        "Where `n_obs` is the number of observations and `var` is the variance of each sample.\n",
        "\n",
        "**Write the code below to calculate the effect size for this test.**"
      ]
    },
    {
      "cell_type": "code",
      "metadata": {
        "id": "MHv8oUu4G4K3",
        "colab_type": "code",
        "colab": {}
      },
      "source": [
        ""
      ],
      "execution_count": null,
      "outputs": []
    },
    {
      "cell_type": "markdown",
      "metadata": {
        "id": "fOFD5TzxG4LA",
        "colab_type": "text"
      },
      "source": [
        "**Use the effect size you calculated to compute the statistical power of this test.**"
      ]
    },
    {
      "cell_type": "code",
      "metadata": {
        "id": "IPhO1sDYG4LC",
        "colab_type": "code",
        "colab": {}
      },
      "source": [
        ""
      ],
      "execution_count": null,
      "outputs": []
    },
    {
      "cell_type": "markdown",
      "metadata": {
        "id": "cIW3XdbLG4LI",
        "colab_type": "text"
      },
      "source": [
        "**Determine the effect size we would need to see to get a statistical power of 0.8.**"
      ]
    },
    {
      "cell_type": "code",
      "metadata": {
        "id": "fOb9oFJ2G4LK",
        "colab_type": "code",
        "colab": {}
      },
      "source": [
        ""
      ],
      "execution_count": null,
      "outputs": []
    },
    {
      "cell_type": "markdown",
      "metadata": {
        "id": "kcZu7cPJG4LQ",
        "colab_type": "text"
      },
      "source": [
        "**Determine the sample size necessary to get a statistical power of 0.8.**"
      ]
    },
    {
      "cell_type": "code",
      "metadata": {
        "id": "830JBqsmG4LR",
        "colab_type": "code",
        "colab": {}
      },
      "source": [
        ""
      ],
      "execution_count": null,
      "outputs": []
    },
    {
      "cell_type": "markdown",
      "metadata": {
        "id": "XdUZfjwrG4LX",
        "colab_type": "text"
      },
      "source": [
        "**Generate a visualization that shows the significance level we would need to get a statistical power of 0.8.**"
      ]
    },
    {
      "cell_type": "code",
      "metadata": {
        "id": "q1FgfzqNG4LZ",
        "colab_type": "code",
        "colab": {}
      },
      "source": [
        ""
      ],
      "execution_count": null,
      "outputs": []
    }
  ]
}